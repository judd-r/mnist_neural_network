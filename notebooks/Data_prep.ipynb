{
 "cells": [
  {
   "cell_type": "markdown",
   "id": "f555c342",
   "metadata": {},
   "source": [
    "# xxx"
   ]
  },
  {
   "cell_type": "code",
   "execution_count": 2,
   "id": "dab320e9",
   "metadata": {},
   "outputs": [],
   "source": [
    "%matplotlib inline\n",
    "\n",
    "import matplotlib.pyplot as plt\n",
    "import numpy as np\n",
    "import tensorflow as tf\n",
    "# if tf only used for load_data, then only import from tensorflow.keras.datasets import mnist\n",
    "# and change import line in next cell"
   ]
  },
  {
   "cell_type": "code",
   "execution_count": 3,
   "id": "b1ad5279",
   "metadata": {},
   "outputs": [],
   "source": [
    "(X_train, y_train), (X_test, y_test) = tf.keras.datasets.mnist.load_data()"
   ]
  },
  {
   "cell_type": "markdown",
   "id": "dec7625c",
   "metadata": {},
   "source": [
    "# Explore dataset"
   ]
  },
  {
   "cell_type": "code",
   "execution_count": 12,
   "id": "f13b016f",
   "metadata": {},
   "outputs": [
    {
     "name": "stdout",
     "output_type": "stream",
     "text": [
      "X_train – shape (60000, 28, 28) data type uint8 \n",
      "X_test – shape (10000, 28, 28) data type uint8 \n",
      "y_train – shape (60000,) data type uint8 \n",
      "y_test – shape (10000,) data type uint8\n"
     ]
    }
   ],
   "source": [
    "print(f'X_train – shape {X_train.shape} data type {X_train.dtype} \\n' \n",
    "      f'X_test – shape {X_test.shape} data type {X_test.dtype} \\n' \n",
    "      f'y_train – shape {y_train.shape} data type {y_train.dtype} \\n' \n",
    "      f'y_test – shape {y_test.shape} data type {y_test.dtype}')"
   ]
  },
  {
   "cell_type": "code",
   "execution_count": 13,
   "id": "46077d45",
   "metadata": {},
   "outputs": [
    {
     "data": {
      "image/png": "[encoded data removed]",
      "text/plain": [
       "<Figure size 432x288 with 2 Axes>"
      ]
     },
     "metadata": {
      "needs_background": "light"
     },
     "output_type": "display_data"
    }
   ],
   "source": [
    "plt.subplot(1,2,1)\n",
    "plt.imshow(X_train[0], cmap=\"gray\");\n",
    "plt.subplot(1,2,2)\n",
    "plt.imshow(X_train[1], cmap=\"gray\");"
   ]
  },
  {
   "cell_type": "code",
   "execution_count": 9,
   "id": "9ea68275",
   "metadata": {},
   "outputs": [
    {
     "data": {
      "text/plain": [
       "dtype('uint8')"
      ]
     },
     "execution_count": 9,
     "metadata": {},
     "output_type": "execute_result"
    }
   ],
   "source": [
    "plt.figure(figsize= 12, 12)\n",
    "\n",
    "for i in range(16):\n",
    "    plt. "
   ]
  },
  {
   "cell_type": "code",
   "execution_count": null,
   "id": "b18f3a1f",
   "metadata": {},
   "outputs": [],
   "source": []
  }
 ],
 "metadata": {
  "kernelspec": {
   "display_name": "Python 3 (ipykernel)",
   "language": "python",
   "name": "python3"
  },
  "language_info": {
   "codemirror_mode": {
    "name": "ipython",
    "version": 3
   },
   "file_extension": ".py",
   "mimetype": "text/x-python",
   "name": "python",
   "nbconvert_exporter": "python",
   "pygments_lexer": "ipython3",
   "version": "3.9.5"
  }
 },
 "nbformat": 4,
 "nbformat_minor": 5
}
